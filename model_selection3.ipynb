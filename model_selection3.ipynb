{
 "cells": [
  {
   "cell_type": "code",
   "execution_count": 1,
   "metadata": {},
   "outputs": [
    {
     "name": "stdout",
     "output_type": "stream",
     "text": [
      "Start Correlation Feature Selector\n",
      "\n",
      "Start Statistical Feature Selector\n",
      "\n",
      "Start Wrapper Feature Selector\n",
      "\n",
      "Start Feature Importance Selector\n",
      "\n",
      "Start Recursive Feature Addition Selector\n",
      "\n",
      "Finish!!! Check the result in result_1234.txt\n",
      "\n"
     ]
    }
   ],
   "source": [
    "from feature_selection import ModelSelector\n",
    "\n",
    "selector = ModelSelector(seed=1234, outfile=\"result_1234.txt\")\n",
    "selector.fit()"
   ]
  },
  {
   "cell_type": "code",
   "execution_count": 1,
   "metadata": {},
   "outputs": [
    {
     "name": "stdout",
     "output_type": "stream",
     "text": [
      "4588 4588 4588\n"
     ]
    }
   ],
   "source": [
    "from parse import *\n",
    "import numpy as np\n",
    "with open(\"result_42.txt\", \"r\", encoding=\"utf-8\") as f:\n",
    "    result_42 = f.readlines()\n",
    "with open(\"result_0.txt\", \"r\", encoding=\"utf-8\") as f:\n",
    "    result_0 = f.readlines()\n",
    "with open(\"result_1234.txt\", \"r\", encoding=\"utf-8\") as f:\n",
    "    result_1234 = f.readlines()\n",
    "with open(\"result_100.txt\", \"r\", encoding=\"utf-8\") as f:\n",
    "    result_100 = f.readlines()\n",
    "with open(\"result_2023.txt\", \"r\", encoding=\"utf-8\") as f:\n",
    "    result_2023 = f.readlines()\n",
    "\n",
    "def write(message: str):\n",
    "    with open(\"result_all.txt\", \"a\", encoding=\"utf-8\") as f:\n",
    "        if not message.endswith(\"\\n\"):\n",
    "            message += \"\\n\"\n",
    "        f.write(message)\n",
    "\n",
    "def get_acc(message: str):\n",
    "    message = message.strip()\n",
    "    r = parse(\"Best accuracy: {accuracy}, best hyperparameter: {hyperparam}\", message)\n",
    "    return float(r['accuracy']), r['hyperparam']\n",
    "\n",
    "def get_test_acc(message: str):\n",
    "    message = message.strip()\n",
    "    r = parse(\"Accuracy on test set: {accuracy}\", message)\n",
    "    return float(r['accuracy'])\n",
    "\n",
    "def remove_random_state(message: str):\n",
    "    message = message.strip()\n",
    "    if \"random_state\" in message:\n",
    "        r = parse(\"{clause1}({random_state}){clause2}\")\n",
    "        random_state_str = f\"({r['random_state']})\"\n",
    "        message = message.replace(random_state_str, \"\")\n",
    "    return message\n",
    "        \n",
    "\n",
    "print(len(result_42), len(result_0), len(result_1234))\n",
    "\n",
    "for i in range(len(result_0)):\n",
    "    if \"Result of \" in result_0[i]:\n",
    "        split_model_and_random = result_0[i].split(\"(\")\n",
    "        write(split_model_and_random[0])\n",
    "    elif \"Best accuracy:\" in result_0[i]:\n",
    "        acc_0, hyperparam_0 = get_acc(result_0[i])\n",
    "        acc_42, hyperparam_42 = get_acc(result_42[i])\n",
    "        acc_100, hyperparam_100 = get_acc(result_100[i])\n",
    "        acc_1234, hyperparam_1234 = get_acc(result_1234[i])\n",
    "        acc_2023, hyperparam_2023 = get_acc(result_2023[i])\n",
    "        \n",
    "        avg_best_acc = np.mean([acc_0, acc_42, acc_100, acc_1234, acc_2023])\n",
    "        std_best_acc = np.std([acc_0, acc_42, acc_100, acc_1234, acc_2023])\n",
    "        message = f\"Average best accuracy: {avg_best_acc}, std: {std_best_acc}, best hyperparameter: {hyperparam_0}, {hyperparam_42}, {hyperparam_100}, {hyperparam_1234}, {hyperparam_2023}\"\n",
    "        write(message)\n",
    "    elif \"Accuracy on test set\" in result_0[i]:\n",
    "        acc_0 = get_test_acc(result_0[i])\n",
    "        acc_42 = get_test_acc(result_42[i])\n",
    "        acc_100 = get_test_acc(result_100[i])\n",
    "        acc_1234 = get_test_acc(result_1234[i])\n",
    "        acc_2023 = get_test_acc(result_2023[i])\n",
    "        \n",
    "        avg_best_acc = np.mean([acc_0, acc_42, acc_100, acc_1234, acc_2023])\n",
    "        std_best_acc = np.std([acc_0, acc_42, acc_100, acc_1234, acc_2023])\n",
    "        message = f\"Accuracy on test set: {avg_best_acc}, std: {std_best_acc}\"\n",
    "        write(message)\n",
    "    elif \"Start tuning hyperparameters:\" in result_0[i]:\n",
    "        message = result_0[i].replace(\"random_state=0\", \"\")\n",
    "        write(message)\n",
    "    else:\n",
    "        write(result_0[i])\n",
    "        \n",
    "        \n",
    "        \n",
    " "
   ]
  },
  {
   "cell_type": "code",
   "execution_count": null,
   "metadata": {},
   "outputs": [],
   "source": []
  }
 ],
 "metadata": {
  "kernelspec": {
   "display_name": "Python 3",
   "language": "python",
   "name": "python3"
  },
  "language_info": {
   "codemirror_mode": {
    "name": "ipython",
    "version": 3
   },
   "file_extension": ".py",
   "mimetype": "text/x-python",
   "name": "python",
   "nbconvert_exporter": "python",
   "pygments_lexer": "ipython3",
   "version": "3.9.0"
  }
 },
 "nbformat": 4,
 "nbformat_minor": 2
}
