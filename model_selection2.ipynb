{
 "cells": [
  {
   "cell_type": "code",
   "execution_count": 1,
   "metadata": {},
   "outputs": [
    {
     "name": "stdout",
     "output_type": "stream",
     "text": [
      "Start Correlation Feature Selector\n",
      "\n",
      "Start Statistical Feature Selector\n",
      "\n",
      "Start Wrapper Feature Selector\n",
      "\n",
      "Start Feature Importance Selector\n",
      "\n",
      "Start Recursive Feature Addition Selector\n",
      "\n",
      "Finish!!! Check the result in result_0.txt\n",
      "\n"
     ]
    }
   ],
   "source": [
    "from feature_selection import ModelSelector\n",
    "\n",
    "selector = ModelSelector(seed=0, outfile=\"result_0.txt\")\n",
    "selector.fit()"
   ]
  },
  {
   "cell_type": "code",
   "execution_count": 1,
   "metadata": {},
   "outputs": [
    {
     "name": "stdout",
     "output_type": "stream",
     "text": [
      "Start Wrapper Feature Selector\n",
      "\n",
      "Start Feature Importance Selector\n",
      "\n",
      "Start Recursive Feature Addition Selector\n",
      "\n",
      "Finish!!! Check the result in result_2023_.txt\n",
      "\n"
     ]
    }
   ],
   "source": [
    "from feature_selection import ModelSelector\n",
    "\n",
    "selector = ModelSelector(seed=2023, outfile=\"result_2023_.txt\")\n",
    "selector.fit()"
   ]
  }
 ],
 "metadata": {
  "kernelspec": {
   "display_name": "Python 3",
   "language": "python",
   "name": "python3"
  },
  "language_info": {
   "codemirror_mode": {
    "name": "ipython",
    "version": 3
   },
   "file_extension": ".py",
   "mimetype": "text/x-python",
   "name": "python",
   "nbconvert_exporter": "python",
   "pygments_lexer": "ipython3",
   "version": "3.9.0"
  }
 },
 "nbformat": 4,
 "nbformat_minor": 2
}
